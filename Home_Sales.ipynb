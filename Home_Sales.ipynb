{
  "nbformat": 4,
  "nbformat_minor": 0,
  "metadata": {
    "colab": {
      "provenance": []
    },
    "kernelspec": {
      "name": "python3",
      "display_name": "Python 3"
    },
    "language_info": {
      "name": "python"
    }
  },
  "cells": [
    {
      "cell_type": "code",
      "source": [
        "# Import findspark and initialize.\n",
        "import pandas as pd\n",
        "import pyarrow as pa\n",
        "import pyarrow.parquet as pq\n",
        "import findspark\n",
        "findspark.init()"
      ],
      "metadata": {
        "id": "m5xKut9IXSpk"
      },
      "execution_count": 9,
      "outputs": []
    },
    {
      "cell_type": "code",
      "source": [
        "# Import packages\n",
        "from pyspark.sql import SparkSession\n",
        "import time\n",
        "\n",
        "# Create a SparkSession\n",
        "spark = SparkSession.builder.appName(\"SparkSQL\").getOrCreate()"
      ],
      "metadata": {
        "id": "r5phke7iXTVn"
      },
      "execution_count": 10,
      "outputs": []
    },
    {
      "cell_type": "code",
      "source": [
        "# 1. Read in the AWS S3 bucket into a DataFrame.\n",
        "from pyspark import SparkFiles\n",
        "url = \"https://2u-data-curriculum-team.s3.amazonaws.com/dataviz-classroom/v1.2/22-big-data/home_sales_revised.csv\"\n",
        "\n",
        "spark.sparkContext.addFile(url)\n",
        "home_sales_df = spark.read.csv(SparkFiles.get(\"home_sales_revised.csv\"), sep=\",\", header=True, inferSchema=True)\n",
        "home_sales_df.show()"
      ],
      "metadata": {
        "colab": {
          "base_uri": "https://localhost:8080/"
        },
        "id": "-bzZ61A7XZCj",
        "outputId": "0e1971cc-8f29-4857-a835-daeb77c95dd2"
      },
      "execution_count": 11,
      "outputs": [
        {
          "output_type": "stream",
          "name": "stdout",
          "text": [
            "+--------------------+----------+----------+------+--------+---------+-----------+--------+------+----------+----+\n",
            "|                  id|      date|date_built| price|bedrooms|bathrooms|sqft_living|sqft_lot|floors|waterfront|view|\n",
            "+--------------------+----------+----------+------+--------+---------+-----------+--------+------+----------+----+\n",
            "|f8a53099-ba1c-47d...|2022-04-08|      2016|936923|       4|        3|       3167|   11733|     2|         1|  76|\n",
            "|7530a2d8-1ae3-451...|2021-06-13|      2013|379628|       2|        2|       2235|   14384|     1|         0|  23|\n",
            "|43de979c-0bf0-4c9...|2019-04-12|      2014|417866|       2|        2|       2127|   10575|     2|         0|   0|\n",
            "|b672c137-b88c-48b...|2019-10-16|      2016|239895|       2|        2|       1631|   11149|     2|         0|   0|\n",
            "|e0726d4d-d595-407...|2022-01-08|      2017|424418|       3|        2|       2249|   13878|     2|         0|   4|\n",
            "|5aa00529-0533-46b...|2019-01-30|      2017|218712|       2|        3|       1965|   14375|     2|         0|   7|\n",
            "|131492a1-72e2-4a8...|2020-02-08|      2017|419199|       2|        3|       2062|    8876|     2|         0|   6|\n",
            "|8d54a71b-c520-44e...|2019-07-21|      2010|323956|       2|        3|       1506|   11816|     1|         0|  25|\n",
            "|e81aacfe-17fe-46b...|2020-06-16|      2016|181925|       3|        3|       2137|   11709|     2|         0|  22|\n",
            "|2ed8d509-7372-46d...|2021-08-06|      2015|258710|       3|        3|       1918|    9666|     1|         0|  25|\n",
            "|f876d86f-3c9f-42b...|2019-02-27|      2011|167864|       3|        3|       2471|   13924|     2|         0|  15|\n",
            "|0a2bd445-8508-4d8...|2021-12-30|      2014|337527|       2|        3|       1926|   12556|     1|         0|  23|\n",
            "|941bad30-eb49-4a7...|2020-05-09|      2015|229896|       3|        3|       2197|    8641|     1|         0|   3|\n",
            "|dd61eb34-6589-4c0...|2021-07-25|      2016|210247|       3|        2|       1672|   11986|     2|         0|  28|\n",
            "|f1e4cef7-d151-439...|2019-02-01|      2011|398667|       2|        3|       2331|   11356|     1|         0|   7|\n",
            "|ea620c7b-c2f7-4c6...|2021-05-31|      2011|437958|       3|        3|       2356|   11052|     1|         0|  26|\n",
            "|f233cb41-6f33-4b0...|2021-07-18|      2016|437375|       4|        3|       1704|   11721|     2|         0|  34|\n",
            "|c797ca12-52cd-4b1...|2019-06-08|      2015|288650|       2|        3|       2100|   10419|     2|         0|   7|\n",
            "|0cfe57f3-28c2-472...|2019-10-04|      2015|308313|       3|        3|       1960|    9453|     2|         0|   2|\n",
            "|4566cd2a-ac6e-435...|2019-07-15|      2016|177541|       3|        3|       2130|   10517|     2|         0|  25|\n",
            "+--------------------+----------+----------+------+--------+---------+-----------+--------+------+----------+----+\n",
            "only showing top 20 rows\n",
            "\n"
          ]
        }
      ]
    },
    {
      "cell_type": "code",
      "source": [
        "# 2. Create a temporary view of the DataFrame.\n",
        "\n",
        "home_sales_df.createOrReplaceTempView('home_sales')"
      ],
      "metadata": {
        "id": "KHvx6g9pXZFy"
      },
      "execution_count": 13,
      "outputs": []
    },
    {
      "cell_type": "code",
      "source": [
        "# 3. What is the average price for a four bedroom house sold in each year rounded to two decimal places?\n",
        "question1 = \"\"\"\n",
        "(SELECT bedrooms, ROUND(avg(price),2) as average_price\n",
        "FROM home_sales\n",
        "WHERE bedrooms==4\n",
        "GROUP BY bedrooms)\n",
        "\"\"\"\n",
        "\n",
        "spark.sql(question1).show()"
      ],
      "metadata": {
        "colab": {
          "base_uri": "https://localhost:8080/"
        },
        "id": "f1X6wFvxXZIz",
        "outputId": "bc47751e-c7a0-4370-dbab-6d08fb5588d4"
      },
      "execution_count": 14,
      "outputs": [
        {
          "output_type": "stream",
          "name": "stdout",
          "text": [
            "+--------+-------------+\n",
            "|bedrooms|average_price|\n",
            "+--------+-------------+\n",
            "|       4|    299661.01|\n",
            "+--------+-------------+\n",
            "\n"
          ]
        }
      ]
    },
    {
      "cell_type": "code",
      "source": [
        "# 4. What is the average price of a home for each year the home was built that have 3 bedrooms and 3 bathrooms rounded to two decimal places?\n",
        "question2 = \"\"\"\n",
        "(SELECT date_built, ROUND(avg(price),2) as average_price\n",
        "FROM home_sales\n",
        "WHERE bedrooms==3 AND bathrooms==3\n",
        "GROUP BY date_built\n",
        "ORDER BY date_built ASC)\n",
        "\"\"\"\n",
        "\n",
        "spark.sql(question2).show()\n"
      ],
      "metadata": {
        "colab": {
          "base_uri": "https://localhost:8080/"
        },
        "id": "L3w7jItdXtfn",
        "outputId": "637b0561-5465-4525-8ef5-51fd51785750"
      },
      "execution_count": 15,
      "outputs": [
        {
          "output_type": "stream",
          "name": "stdout",
          "text": [
            "+----------+-------------+\n",
            "|date_built|average_price|\n",
            "+----------+-------------+\n",
            "|      2010|    292859.62|\n",
            "|      2011|    291117.47|\n",
            "|      2012|    293683.19|\n",
            "|      2013|    295962.27|\n",
            "|      2014|    290852.27|\n",
            "|      2015|     288770.3|\n",
            "|      2016|    290555.07|\n",
            "|      2017|    292676.79|\n",
            "+----------+-------------+\n",
            "\n"
          ]
        }
      ]
    },
    {
      "cell_type": "code",
      "source": [
        "#  5. What is the average price of a home for each year built that have 3 bedrooms, 3 bathrooms, with two floors,\n",
        "# and are greater than or equal to 2,000 square feet rounded to two decimal places?\n",
        "question3 = \"\"\"\n",
        "(SELECT date_built, ROUND(avg(price),2) as average_price\n",
        "FROM home_sales\n",
        "WHERE bedrooms==3 AND bathrooms==3 AND floors==2 AND sqft_living>=2000\n",
        "GROUP BY date_built\n",
        "ORDER BY date_built ASC)\n",
        "\"\"\"\n",
        "\n",
        "spark.sql(question3).show()\n"
      ],
      "metadata": {
        "colab": {
          "base_uri": "https://localhost:8080/"
        },
        "id": "uzfPE1ZBXvPY",
        "outputId": "9ae8c6ac-5f74-417e-d2eb-6d8614a300c3"
      },
      "execution_count": 16,
      "outputs": [
        {
          "output_type": "stream",
          "name": "stdout",
          "text": [
            "+----------+-------------+\n",
            "|date_built|average_price|\n",
            "+----------+-------------+\n",
            "|      2010|    285010.22|\n",
            "|      2011|    276553.81|\n",
            "|      2012|    307539.97|\n",
            "|      2013|    303676.79|\n",
            "|      2014|    298264.72|\n",
            "|      2015|    297609.97|\n",
            "|      2016|     293965.1|\n",
            "|      2017|    280317.58|\n",
            "+----------+-------------+\n",
            "\n"
          ]
        }
      ]
    },
    {
      "cell_type": "code",
      "source": [
        "# 6. What is the \"view\" rating for the average price of a home, rounded to two decimal places, where the homes are greater than\n",
        "# or equal to $350,000? Although this is a small dataset, determine the run time for this query.\n",
        "\n",
        "start_time = time.time()\n",
        "question4 = \"\"\"\n",
        "(SELECT view, ROUND(avg(price),2) as average_price\n",
        "FROM home_sales\n",
        "WHERE price>=350000\n",
        "GROUP BY view\n",
        "ORDER BY view ASC)\n",
        "\"\"\"\n",
        "\n",
        "spark.sql(question4).show()\n",
        "\n",
        "\n",
        "print(\"--- %s seconds ---\" % (time.time() - start_time))"
      ],
      "metadata": {
        "colab": {
          "base_uri": "https://localhost:8080/"
        },
        "id": "yTt2MMQEXyNI",
        "outputId": "2eb426d4-b7b9-4121-966e-cbf8a0385f9c"
      },
      "execution_count": 17,
      "outputs": [
        {
          "output_type": "stream",
          "name": "stdout",
          "text": [
            "+----+-------------+\n",
            "|view|average_price|\n",
            "+----+-------------+\n",
            "|   0|    403848.51|\n",
            "|   1|    401044.25|\n",
            "|   2|    397389.25|\n",
            "|   3|     398867.6|\n",
            "|   4|    399631.89|\n",
            "|   5|    401471.82|\n",
            "|   6|    395655.38|\n",
            "|   7|    403005.77|\n",
            "|   8|    398592.71|\n",
            "|   9|    401393.34|\n",
            "|  10|    401868.43|\n",
            "|  11|    399548.12|\n",
            "|  12|    401501.32|\n",
            "|  13|    398917.98|\n",
            "|  14|    398570.03|\n",
            "|  15|     404673.3|\n",
            "|  16|    399586.53|\n",
            "|  17|    398474.49|\n",
            "|  18|    399332.91|\n",
            "|  19|    398953.17|\n",
            "+----+-------------+\n",
            "only showing top 20 rows\n",
            "\n",
            "--- 1.4638338088989258 seconds ---\n"
          ]
        }
      ]
    },
    {
      "cell_type": "code",
      "source": [
        "# 7. Cache the the temporary table home_sales.\n",
        "spark.sql(\"cache table home_sales\")"
      ],
      "metadata": {
        "colab": {
          "base_uri": "https://localhost:8080/"
        },
        "id": "A8uANz_xXz3b",
        "outputId": "85437ae8-84c1-41eb-bf41-1873a146f8a8"
      },
      "execution_count": 18,
      "outputs": [
        {
          "output_type": "execute_result",
          "data": {
            "text/plain": [
              "DataFrame[]"
            ]
          },
          "metadata": {},
          "execution_count": 18
        }
      ]
    },
    {
      "cell_type": "code",
      "source": [
        "# 8. Check if the table is cached.\n",
        "spark.catalog.isCached('home_sales')"
      ],
      "metadata": {
        "colab": {
          "base_uri": "https://localhost:8080/"
        },
        "id": "XggBnY32X2Cv",
        "outputId": "46fa1386-ab5a-4b8c-a537-fd142252c129"
      },
      "execution_count": 19,
      "outputs": [
        {
          "output_type": "execute_result",
          "data": {
            "text/plain": [
              "True"
            ]
          },
          "metadata": {},
          "execution_count": 19
        }
      ]
    },
    {
      "cell_type": "code",
      "source": [
        "# 9. Using the cached data, run the query that filters out the view ratings with average price\n",
        "#  greater than or equal to $350,000. Determine the runtime and compare it to uncached runtime.\n",
        "\n",
        "start_time = time.time()\n",
        "\n",
        "question5 = \"\"\"\n",
        "(SELECT view, ROUND(avg(price),2) as average_price\n",
        "FROM home_sales\n",
        "WHERE price>=350000\n",
        "GROUP BY view\n",
        "ORDER BY view ASC)\n",
        "\"\"\"\n",
        "\n",
        "spark.sql(question5).show()\n",
        "print(\"--- %s seconds ---\" % (time.time() - start_time))\n"
      ],
      "metadata": {
        "colab": {
          "base_uri": "https://localhost:8080/"
        },
        "id": "plbSH5SqX2FO",
        "outputId": "e5e112dd-cbb4-4831-da57-e6e0239f15d6"
      },
      "execution_count": 20,
      "outputs": [
        {
          "output_type": "stream",
          "name": "stdout",
          "text": [
            "+----+-------------+\n",
            "|view|average_price|\n",
            "+----+-------------+\n",
            "|   0|    403848.51|\n",
            "|   1|    401044.25|\n",
            "|   2|    397389.25|\n",
            "|   3|     398867.6|\n",
            "|   4|    399631.89|\n",
            "|   5|    401471.82|\n",
            "|   6|    395655.38|\n",
            "|   7|    403005.77|\n",
            "|   8|    398592.71|\n",
            "|   9|    401393.34|\n",
            "|  10|    401868.43|\n",
            "|  11|    399548.12|\n",
            "|  12|    401501.32|\n",
            "|  13|    398917.98|\n",
            "|  14|    398570.03|\n",
            "|  15|     404673.3|\n",
            "|  16|    399586.53|\n",
            "|  17|    398474.49|\n",
            "|  18|    399332.91|\n",
            "|  19|    398953.17|\n",
            "+----+-------------+\n",
            "only showing top 20 rows\n",
            "\n",
            "--- 0.6110763549804688 seconds ---\n"
          ]
        }
      ]
    },
    {
      "cell_type": "code",
      "source": [
        "# 10. Partition by the \"date_built\" field on the formatted parquet home sales data\n",
        "home_sales_df.write.partitionBy(\"date_built\").mode(\"overwrite\").parquet(\"homesales_partitioned\")"
      ],
      "metadata": {
        "id": "JRg7vfwUX2HY"
      },
      "execution_count": 23,
      "outputs": []
    },
    {
      "cell_type": "code",
      "source": [
        "# 11. Read the formatted parquet data.\n",
        "p_df_p=spark.read.parquet('homesales_partitioned')"
      ],
      "metadata": {
        "id": "A3Ax7HSjX2KM"
      },
      "execution_count": 24,
      "outputs": []
    },
    {
      "cell_type": "code",
      "source": [
        "# 12. Create a temporary table for the parquet data.\n",
        "p_df_p.createOrReplaceTempView('p_homesales_p')"
      ],
      "metadata": {
        "id": "CxCd4qpmX2M8"
      },
      "execution_count": 25,
      "outputs": []
    },
    {
      "cell_type": "code",
      "source": [
        "# 13. Run the query that filters out the view ratings with average price of greater than or eqaul to $350,000\n",
        "# with the parquet DataFrame. Round your average to two decimal places.\n",
        "# Determine the runtime and compare it to the cached version.\n",
        "\n",
        "start_time = time.time()\n",
        "qry = \"\"\"\n",
        "  Select view, round(avg(price), 2) as average_price\n",
        "  from p_homesales_p\n",
        "  where price >= 350000\n",
        "  group by view\n",
        "  order by view\n",
        "\"\"\"\n",
        "spark.sql(qry).show()\n",
        "\n",
        "print(\"--- %s seconds ---\" % (time.time() - start_time))"
      ],
      "metadata": {
        "colab": {
          "base_uri": "https://localhost:8080/"
        },
        "id": "vNJz9D20X2PU",
        "outputId": "3824cce5-78dc-4fa0-bfca-99ecaa42a2f4"
      },
      "execution_count": 27,
      "outputs": [
        {
          "output_type": "stream",
          "name": "stdout",
          "text": [
            "+----+-------------+\n",
            "|view|average_price|\n",
            "+----+-------------+\n",
            "|   0|    403848.51|\n",
            "|   1|    401044.25|\n",
            "|   2|    397389.25|\n",
            "|   3|     398867.6|\n",
            "|   4|    399631.89|\n",
            "|   5|    401471.82|\n",
            "|   6|    395655.38|\n",
            "|   7|    403005.77|\n",
            "|   8|    398592.71|\n",
            "|   9|    401393.34|\n",
            "|  10|    401868.43|\n",
            "|  11|    399548.12|\n",
            "|  12|    401501.32|\n",
            "|  13|    398917.98|\n",
            "|  14|    398570.03|\n",
            "|  15|     404673.3|\n",
            "|  16|    399586.53|\n",
            "|  17|    398474.49|\n",
            "|  18|    399332.91|\n",
            "|  19|    398953.17|\n",
            "+----+-------------+\n",
            "only showing top 20 rows\n",
            "\n",
            "--- 1.1441700458526611 seconds ---\n"
          ]
        }
      ]
    },
    {
      "cell_type": "code",
      "source": [
        "spark.catalog.listTables()"
      ],
      "metadata": {
        "colab": {
          "base_uri": "https://localhost:8080/"
        },
        "id": "S3m-PaoCZTD_",
        "outputId": "9cdc6883-c2dd-44d8-a735-b80a4b215ed1"
      },
      "execution_count": 35,
      "outputs": [
        {
          "output_type": "execute_result",
          "data": {
            "text/plain": [
              "[Table(name='home_sales', catalog=None, namespace=[], description=None, tableType='TEMPORARY', isTemporary=True),\n",
              " Table(name='p_homesales_p', catalog=None, namespace=[], description=None, tableType='TEMPORARY', isTemporary=True)]"
            ]
          },
          "metadata": {},
          "execution_count": 35
        }
      ]
    },
    {
      "cell_type": "code",
      "source": [
        "# 14. Uncache the home_sales temporary table.\n",
        "spark.sql(\"uncache table home_sales\")"
      ],
      "metadata": {
        "colab": {
          "base_uri": "https://localhost:8080/"
        },
        "id": "5sDt7fWqX7cW",
        "outputId": "e92a7261-f273-4f23-ea23-e491fbde65e6"
      },
      "execution_count": 37,
      "outputs": [
        {
          "output_type": "execute_result",
          "data": {
            "text/plain": [
              "DataFrame[]"
            ]
          },
          "metadata": {},
          "execution_count": 37
        }
      ]
    },
    {
      "cell_type": "code",
      "source": [
        "# 15. Check if the home_sales is no longer cached\n",
        "spark.catalog.isCached('home_sales')"
      ],
      "metadata": {
        "colab": {
          "base_uri": "https://localhost:8080/"
        },
        "id": "PeeMQqbQX7es",
        "outputId": "889d0d23-c6d4-4754-b0d0-0b38fda6a479"
      },
      "execution_count": 38,
      "outputs": [
        {
          "output_type": "execute_result",
          "data": {
            "text/plain": [
              "False"
            ]
          },
          "metadata": {},
          "execution_count": 38
        }
      ]
    }
  ]
}